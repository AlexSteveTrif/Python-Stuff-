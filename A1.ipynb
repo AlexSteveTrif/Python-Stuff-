{
 "cells": [
  {
   "cell_type": "code",
   "execution_count": 3,
   "metadata": {
    "collapsed": true,
    "ExecuteTime": {
     "end_time": "2023-05-16T20:06:44.930335300Z",
     "start_time": "2023-05-16T20:06:44.913331200Z"
    }
   },
   "outputs": [],
   "source": [
    "import numpy as np"
   ]
  },
  {
   "cell_type": "code",
   "execution_count": 97,
   "outputs": [
    {
     "name": "stdout",
     "output_type": "stream",
     "text": [
      "[0 1 2 3 4 5 6 7 8 9]\n"
     ]
    }
   ],
   "source": [
    "# 2\n",
    "a = np.arange(10)\n",
    "print(a)"
   ],
   "metadata": {
    "collapsed": false,
    "ExecuteTime": {
     "end_time": "2023-05-16T20:50:20.018964200Z",
     "start_time": "2023-05-16T20:50:20.003821800Z"
    }
   }
  },
  {
   "cell_type": "code",
   "execution_count": 84,
   "outputs": [
    {
     "data": {
      "text/plain": "array([[ True,  True,  True],\n       [ True,  True,  True],\n       [ True,  True,  True]])"
     },
     "execution_count": 84,
     "metadata": {},
     "output_type": "execute_result"
    }
   ],
   "source": [
    "# 3\n",
    "np.ones((3, 3), dtype=bool)"
   ],
   "metadata": {
    "collapsed": false,
    "ExecuteTime": {
     "end_time": "2023-05-16T20:48:30.140925200Z",
     "start_time": "2023-05-16T20:48:30.126842500Z"
    }
   }
  },
  {
   "cell_type": "code",
   "execution_count": 87,
   "outputs": [
    {
     "data": {
      "text/plain": "array([1, 3, 5, 7, 9])"
     },
     "execution_count": 87,
     "metadata": {},
     "output_type": "execute_result"
    }
   ],
   "source": [
    "# 4\n",
    "a[a % 2] # % calculates the remainder of division between two numbers.\n",
    "\n",
    "a[a  % 2 == 0] # index out all even numbers\n",
    "\n",
    "a[a % 2 != 0] # index all odd numbers"
   ],
   "metadata": {
    "collapsed": false,
    "ExecuteTime": {
     "end_time": "2023-05-16T20:48:58.213767600Z",
     "start_time": "2023-05-16T20:48:58.165667700Z"
    }
   }
  },
  {
   "cell_type": "code",
   "execution_count": 88,
   "outputs": [
    {
     "data": {
      "text/plain": "array([ 0, -1,  2, -1,  4, -1,  6, -1,  8, -1])"
     },
     "execution_count": 88,
     "metadata": {},
     "output_type": "execute_result"
    }
   ],
   "source": [
    "# 5\n",
    "a[a % 2 != 0] = -1\n",
    "a\n"
   ],
   "metadata": {
    "collapsed": false,
    "ExecuteTime": {
     "end_time": "2023-05-16T20:49:02.855836500Z",
     "start_time": "2023-05-16T20:49:02.849835400Z"
    }
   }
  },
  {
   "cell_type": "code",
   "execution_count": 133,
   "outputs": [
    {
     "data": {
      "text/plain": "array([[0, 1, 2, 3, 4],\n       [5, 6, 7, 8, 9]])"
     },
     "execution_count": 133,
     "metadata": {},
     "output_type": "execute_result"
    }
   ],
   "source": [
    "# 6\n",
    "a = np.arange(10)\n",
    "\n",
    "a.reshape(2,5)"
   ],
   "metadata": {
    "collapsed": false,
    "ExecuteTime": {
     "end_time": "2023-05-16T21:06:40.126462300Z",
     "start_time": "2023-05-16T21:06:40.117102200Z"
    }
   }
  },
  {
   "cell_type": "code",
   "execution_count": 118,
   "outputs": [
    {
     "data": {
      "text/plain": "2.8722813232690143"
     },
     "execution_count": 118,
     "metadata": {},
     "output_type": "execute_result"
    }
   ],
   "source": [
    "# 7\n",
    "a = np.arange(10)\n",
    "\n",
    "np.mean(a)\n",
    "\n",
    "np.median(a)\n",
    "\n",
    "np.std(a)"
   ],
   "metadata": {
    "collapsed": false,
    "ExecuteTime": {
     "end_time": "2023-05-16T20:59:23.666822700Z",
     "start_time": "2023-05-16T20:59:23.652798800Z"
    }
   }
  },
  {
   "cell_type": "code",
   "execution_count": 148,
   "outputs": [
    {
     "data": {
      "text/plain": "array([[-1.17737534,  1.0976847 , -0.47523659,  0.28714882,  0.56561187],\n       [ 0.82098686,  1.85755564, -1.28417702,  1.83453945, -1.07957141],\n       [-0.95955   , -0.20198907,  0.30924561,  0.39507648,  1.91297427],\n       [-0.4225496 , -0.36929907, -1.3829872 ,  0.69074939, -0.54611416],\n       [ 1.11013236, -0.46508871, -0.75162171, -0.99936319, -0.76678237]])"
     },
     "execution_count": 148,
     "metadata": {},
     "output_type": "execute_result"
    }
   ],
   "source": [
    "# 8\n",
    "b = np.random.rand(5,5)\n",
    "mean = b.mean() # or np.mean(b)\n",
    "std = b.std()\n",
    "\n",
    "(b - mean)/std"
   ],
   "metadata": {
    "collapsed": false,
    "ExecuteTime": {
     "end_time": "2023-05-16T21:09:58.669166400Z",
     "start_time": "2023-05-16T21:09:58.638896700Z"
    }
   }
  },
  {
   "cell_type": "code",
   "execution_count": 165,
   "outputs": [
    {
     "data": {
      "text/plain": "array([[726, 382, 610, 165, 516],\n       [132, 285, 304, 159, 253],\n       [286, 179, 388, 208, 393],\n       [902, 526, 906, 341, 820],\n       [638, 705, 895, 395, 765]])"
     },
     "execution_count": 165,
     "metadata": {},
     "output_type": "execute_result"
    }
   ],
   "source": [
    "# 9\n",
    "a = np.random.randint(0,25,(5,3), dtype= int)\n",
    "b = np.random.randint(0,25,(3,5), dtype= int)\n",
    "\n",
    "np.dot(a,b)"
   ],
   "metadata": {
    "collapsed": false,
    "ExecuteTime": {
     "end_time": "2023-05-16T21:12:51.809524400Z",
     "start_time": "2023-05-16T21:12:51.799266Z"
    }
   }
  },
  {
   "cell_type": "code",
   "execution_count": 211,
   "outputs": [
    {
     "name": "stdout",
     "output_type": "stream",
     "text": [
      "[ 1  2  3  4  5  6  7  8  9  9  9  8  7  6  5  6  5  6  5  4  3  2  1  2\n",
      "  3  4 29]\n"
     ]
    },
    {
     "data": {
      "text/plain": "(array([ 1,  2,  3,  4,  5,  6,  7,  8,  9, 29]),\n array([2, 3, 3, 3, 4, 4, 2, 2, 3, 1], dtype=int64))"
     },
     "execution_count": 211,
     "metadata": {},
     "output_type": "execute_result"
    }
   ],
   "source": [
    "# 10\n",
    "arr = np.array([1,2,3,4,5,6,7,8,9,9,9,8,7,6,5,6,5,6,5,4,3,2,1,2,3,4,29])\n",
    "print(arr)\n",
    "np.unique(arr, return_counts=True) # prints unique members and counts of each unique number\n",
    "\n",
    "\n"
   ],
   "metadata": {
    "collapsed": false,
    "ExecuteTime": {
     "end_time": "2023-05-16T21:29:53.414003800Z",
     "start_time": "2023-05-16T21:29:53.399398400Z"
    }
   }
  }
 ],
 "metadata": {
  "kernelspec": {
   "display_name": "Python 3",
   "language": "python",
   "name": "python3"
  },
  "language_info": {
   "codemirror_mode": {
    "name": "ipython",
    "version": 2
   },
   "file_extension": ".py",
   "mimetype": "text/x-python",
   "name": "python",
   "nbconvert_exporter": "python",
   "pygments_lexer": "ipython2",
   "version": "2.7.6"
  }
 },
 "nbformat": 4,
 "nbformat_minor": 0
}

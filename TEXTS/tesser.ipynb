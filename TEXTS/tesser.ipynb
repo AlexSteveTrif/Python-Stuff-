{
 "cells": [
  {
   "cell_type": "raw",
   "source": [],
   "metadata": {
    "collapsed": false
   }
  },
  {
   "cell_type": "code",
   "execution_count": 1,
   "metadata": {
    "collapsed": true,
    "ExecuteTime": {
     "end_time": "2023-06-13T19:20:00.542871Z",
     "start_time": "2023-06-13T19:19:59.309028800Z"
    }
   },
   "outputs": [],
   "source": [
    "import cv2\n",
    "from pytesseract import pytesseract\n"
   ]
  },
  {
   "cell_type": "code",
   "execution_count": 1,
   "outputs": [],
   "source": [],
   "metadata": {
    "collapsed": false,
    "ExecuteTime": {
     "end_time": "2023-06-13T19:20:00.557874Z",
     "start_time": "2023-06-13T19:20:00.548872500Z"
    }
   }
  },
  {
   "cell_type": "code",
   "execution_count": 2,
   "outputs": [],
   "source": [
    "from pdf2image import convert_from_path\n"
   ],
   "metadata": {
    "collapsed": false,
    "ExecuteTime": {
     "end_time": "2023-06-13T19:20:04.776971900Z",
     "start_time": "2023-06-13T19:20:04.608233800Z"
    }
   }
  },
  {
   "cell_type": "code",
   "execution_count": 3,
   "outputs": [],
   "source": [
    "import pytesseract\n",
    "\n",
    "# Specify the path to the Tesseract executable\n",
    "pytesseract.tesseract_cmd = r'C:\\Program Files\\Tesseract-OCR\\tesseract.exe'\n"
   ],
   "metadata": {
    "collapsed": false,
    "ExecuteTime": {
     "end_time": "2023-06-13T19:20:07.103099800Z",
     "start_time": "2023-06-13T19:20:07.077582Z"
    }
   }
  },
  {
   "cell_type": "code",
   "execution_count": null,
   "outputs": [],
   "source": [],
   "metadata": {
    "collapsed": false
   }
  },
  {
   "cell_type": "code",
   "execution_count": 4,
   "outputs": [],
   "source": [
    "import pytesseract\n",
    "\n",
    "# Specify the correct path to the Tesseract executable\n",
    "pytesseract.pytesseract.tesseract_cmd = r'C:\\Program Files\\Tesseract-OCR\\tesseract.exe'\n",
    "\n",
    "# The rest of your script...\n"
   ],
   "metadata": {
    "collapsed": false,
    "ExecuteTime": {
     "end_time": "2023-06-13T19:20:11.054258400Z",
     "start_time": "2023-06-13T19:20:11.006499300Z"
    }
   }
  },
  {
   "cell_type": "code",
   "execution_count": 7,
   "outputs": [
    {
     "ename": "PDFPageCountError",
     "evalue": "Unable to get page count.\nSyntax Warning: May not be a PDF file (continuing anyway)\r\nSyntax Error: Couldn't find trailer dictionary\r\nSyntax Error: Couldn't find trailer dictionary\r\nSyntax Error: Couldn't read xref table\r\n",
     "output_type": "error",
     "traceback": [
      "\u001B[1;31m---------------------------------------------------------------------------\u001B[0m",
      "\u001B[1;31mValueError\u001B[0m                                Traceback (most recent call last)",
      "File \u001B[1;32m~\\anaconda3\\lib\\site-packages\\pdf2image\\pdf2image.py:589\u001B[0m, in \u001B[0;36mpdfinfo_from_path\u001B[1;34m(pdf_path, userpw, ownerpw, poppler_path, rawdates, timeout)\u001B[0m\n\u001B[0;32m    588\u001B[0m \u001B[38;5;28;01mif\u001B[39;00m \u001B[38;5;124m\"\u001B[39m\u001B[38;5;124mPages\u001B[39m\u001B[38;5;124m\"\u001B[39m \u001B[38;5;129;01mnot\u001B[39;00m \u001B[38;5;129;01min\u001B[39;00m d:\n\u001B[1;32m--> 589\u001B[0m     \u001B[38;5;28;01mraise\u001B[39;00m \u001B[38;5;167;01mValueError\u001B[39;00m\n\u001B[0;32m    591\u001B[0m \u001B[38;5;28;01mreturn\u001B[39;00m d\n",
      "\u001B[1;31mValueError\u001B[0m: ",
      "\nDuring handling of the above exception, another exception occurred:\n",
      "\u001B[1;31mPDFPageCountError\u001B[0m                         Traceback (most recent call last)",
      "Cell \u001B[1;32mIn[7], line 1\u001B[0m\n\u001B[1;32m----> 1\u001B[0m images \u001B[38;5;241m=\u001B[39m \u001B[43mconvert_from_path\u001B[49m\u001B[43m(\u001B[49m\u001B[38;5;124;43m\"\u001B[39;49m\u001B[38;5;124;43mC:\u001B[39;49m\u001B[38;5;130;43;01m\\\\\u001B[39;49;00m\u001B[38;5;124;43mUsers\u001B[39;49m\u001B[38;5;130;43;01m\\\\\u001B[39;49;00m\u001B[38;5;124;43malext\u001B[39;49m\u001B[38;5;130;43;01m\\\\\u001B[39;49;00m\u001B[38;5;124;43mPython Stuff\u001B[39;49m\u001B[38;5;130;43;01m\\\\\u001B[39;49;00m\u001B[38;5;124;43mTEXTS\u001B[39;49m\u001B[38;5;130;43;01m\\\\\u001B[39;49;00m\u001B[38;5;124;43mScreenshot 2023-06-13 121851.png\u001B[39;49m\u001B[38;5;124;43m\"\u001B[39;49m\u001B[43m,\u001B[49m\u001B[43m \u001B[49m\u001B[43mpoppler_path\u001B[49m\u001B[38;5;241;43m=\u001B[39;49m\u001B[38;5;124;43mr\u001B[39;49m\u001B[38;5;124;43m\"\u001B[39;49m\u001B[38;5;124;43mC:\u001B[39;49m\u001B[38;5;130;43;01m\\\\\u001B[39;49;00m\u001B[38;5;124;43mUsers\u001B[39;49m\u001B[38;5;130;43;01m\\\\\u001B[39;49;00m\u001B[38;5;124;43malext\u001B[39;49m\u001B[38;5;130;43;01m\\\\\u001B[39;49;00m\u001B[38;5;124;43mDownloads\u001B[39;49m\u001B[38;5;130;43;01m\\\\\u001B[39;49;00m\u001B[38;5;124;43mpoppler-0.68.0\u001B[39;49m\u001B[38;5;130;43;01m\\\\\u001B[39;49;00m\u001B[38;5;124;43mbin\u001B[39;49m\u001B[38;5;124;43m\"\u001B[39;49m\u001B[43m)\u001B[49m\n",
      "File \u001B[1;32m~\\anaconda3\\lib\\site-packages\\pdf2image\\pdf2image.py:127\u001B[0m, in \u001B[0;36mconvert_from_path\u001B[1;34m(pdf_path, dpi, output_folder, first_page, last_page, fmt, jpegopt, thread_count, userpw, ownerpw, use_cropbox, strict, transparent, single_file, output_file, poppler_path, grayscale, size, paths_only, use_pdftocairo, timeout, hide_annotations)\u001B[0m\n\u001B[0;32m    124\u001B[0m \u001B[38;5;28;01mif\u001B[39;00m \u001B[38;5;28misinstance\u001B[39m(poppler_path, PurePath):\n\u001B[0;32m    125\u001B[0m     poppler_path \u001B[38;5;241m=\u001B[39m poppler_path\u001B[38;5;241m.\u001B[39mas_posix()\n\u001B[1;32m--> 127\u001B[0m page_count \u001B[38;5;241m=\u001B[39m \u001B[43mpdfinfo_from_path\u001B[49m\u001B[43m(\u001B[49m\n\u001B[0;32m    128\u001B[0m \u001B[43m    \u001B[49m\u001B[43mpdf_path\u001B[49m\u001B[43m,\u001B[49m\u001B[43m \u001B[49m\u001B[43muserpw\u001B[49m\u001B[43m,\u001B[49m\u001B[43m \u001B[49m\u001B[43mownerpw\u001B[49m\u001B[43m,\u001B[49m\u001B[43m \u001B[49m\u001B[43mpoppler_path\u001B[49m\u001B[38;5;241;43m=\u001B[39;49m\u001B[43mpoppler_path\u001B[49m\n\u001B[0;32m    129\u001B[0m \u001B[43m\u001B[49m\u001B[43m)\u001B[49m[\u001B[38;5;124m\"\u001B[39m\u001B[38;5;124mPages\u001B[39m\u001B[38;5;124m\"\u001B[39m]\n\u001B[0;32m    131\u001B[0m \u001B[38;5;66;03m# We start by getting the output format, the buffer processing function and if we need pdftocairo\u001B[39;00m\n\u001B[0;32m    132\u001B[0m parsed_fmt, final_extension, parse_buffer_func, use_pdfcairo_format \u001B[38;5;241m=\u001B[39m _parse_format(\n\u001B[0;32m    133\u001B[0m     fmt, grayscale\n\u001B[0;32m    134\u001B[0m )\n",
      "File \u001B[1;32m~\\anaconda3\\lib\\site-packages\\pdf2image\\pdf2image.py:598\u001B[0m, in \u001B[0;36mpdfinfo_from_path\u001B[1;34m(pdf_path, userpw, ownerpw, poppler_path, rawdates, timeout)\u001B[0m\n\u001B[0;32m    594\u001B[0m     \u001B[38;5;28;01mraise\u001B[39;00m PDFInfoNotInstalledError(\n\u001B[0;32m    595\u001B[0m         \u001B[38;5;124m\"\u001B[39m\u001B[38;5;124mUnable to get page count. Is poppler installed and in PATH?\u001B[39m\u001B[38;5;124m\"\u001B[39m\n\u001B[0;32m    596\u001B[0m     )\n\u001B[0;32m    597\u001B[0m \u001B[38;5;28;01mexcept\u001B[39;00m \u001B[38;5;167;01mValueError\u001B[39;00m:\n\u001B[1;32m--> 598\u001B[0m     \u001B[38;5;28;01mraise\u001B[39;00m PDFPageCountError(\n\u001B[0;32m    599\u001B[0m         \u001B[38;5;124mf\u001B[39m\u001B[38;5;124m\"\u001B[39m\u001B[38;5;124mUnable to get page count.\u001B[39m\u001B[38;5;130;01m\\n\u001B[39;00m\u001B[38;5;132;01m{\u001B[39;00merr\u001B[38;5;241m.\u001B[39mdecode(\u001B[38;5;124m'\u001B[39m\u001B[38;5;124mutf8\u001B[39m\u001B[38;5;124m'\u001B[39m,\u001B[38;5;250m \u001B[39m\u001B[38;5;124m'\u001B[39m\u001B[38;5;124mignore\u001B[39m\u001B[38;5;124m'\u001B[39m)\u001B[38;5;132;01m}\u001B[39;00m\u001B[38;5;124m\"\u001B[39m\n\u001B[0;32m    600\u001B[0m     )\n",
      "\u001B[1;31mPDFPageCountError\u001B[0m: Unable to get page count.\nSyntax Warning: May not be a PDF file (continuing anyway)\r\nSyntax Error: Couldn't find trailer dictionary\r\nSyntax Error: Couldn't find trailer dictionary\r\nSyntax Error: Couldn't read xref table\r\n"
     ]
    }
   ],
   "source": [
    "images = convert_from_path(\"C:\\\\Users\\\\alext\\\\Python Stuff\\\\TEXTS\\\\Screenshot 2023-06-13 121851.png\", poppler_path=r\"C:\\\\Users\\\\alext\\\\Downloads\\\\poppler-0.68.0\\\\bin\")"
   ],
   "metadata": {
    "collapsed": false,
    "ExecuteTime": {
     "end_time": "2023-06-13T19:20:40.778639900Z",
     "start_time": "2023-06-13T19:20:40.537916300Z"
    }
   }
  },
  {
   "cell_type": "code",
   "execution_count": 9,
   "outputs": [],
   "source": [
    "img = cv2.imread('Screenshot 2023-06-13 121851.png')\n",
    "text1 = pytesseract.image_to_string(img)"
   ],
   "metadata": {
    "collapsed": false,
    "ExecuteTime": {
     "end_time": "2023-06-13T19:21:55.602998300Z",
     "start_time": "2023-06-13T19:21:52.749706400Z"
    }
   }
  },
  {
   "cell_type": "code",
   "execution_count": 10,
   "outputs": [
    {
     "name": "stdout",
     "output_type": "stream",
     "text": [
      "A fast-food franchise is considering operating a drive-up window food-service operation.\n",
      "Assume that customer arrivals follow a Poisson probability distribution, with an arrival\n",
      "rate of 24 cars per hour, and that service times follow an exponential probability distribu-\n",
      "tion. Arriving customers place orders at an intercom station at the back of the parking lot\n",
      "and then drive to the service window to pay for and receive their orders. The following\n",
      "three service alternatives are being considered:\n",
      "\n",
      "A single-server operation in which one employee fills the order and takes the money\n",
      "from the customer. The average service time for this alternative is 2 minutes.\n",
      "\n",
      "A single-server operation in which one employee fills the order while a second\n",
      "employee takes the money from the customer. The average service time for this alter-\n",
      "native is 1.25 minutes.\n",
      "\n",
      "A two-server operation with two service windows and two employees. The employee\n",
      "stationed at each window fills the order and takes the money for customers arriving at\n",
      "the window. The average service time for this alternative is 2 minutes for each server.\n",
      "Customer waiting time is valued at $25 per hour to reflect the fact that waiting time is\n",
      "costly to the fast-food business.\n",
      "\n",
      "The cost of each employee is $6.50 per hour.\n",
      "\n",
      "To account for equipment and space, an additional cost of $20 per hour is attributable\n",
      "to each server.\n",
      "\n",
      "What is the lowest-cost design for the fast-food business?\n",
      "\n"
     ]
    }
   ],
   "source": [
    "print(text1)"
   ],
   "metadata": {
    "collapsed": false,
    "ExecuteTime": {
     "end_time": "2023-06-13T19:22:11.997100200Z",
     "start_time": "2023-06-13T19:22:11.937120100Z"
    }
   }
  },
  {
   "cell_type": "code",
   "execution_count": 6,
   "outputs": [
    {
     "ename": "NameError",
     "evalue": "name 'images' is not defined",
     "output_type": "error",
     "traceback": [
      "\u001B[1;31m---------------------------------------------------------------------------\u001B[0m",
      "\u001B[1;31mNameError\u001B[0m                                 Traceback (most recent call last)",
      "Cell \u001B[1;32mIn[6], line 1\u001B[0m\n\u001B[1;32m----> 1\u001B[0m \u001B[38;5;28;01mfor\u001B[39;00m i, image \u001B[38;5;129;01min\u001B[39;00m \u001B[38;5;28menumerate\u001B[39m(\u001B[43mimages\u001B[49m):\n\u001B[0;32m      2\u001B[0m     \u001B[38;5;66;03m# Use pytesseract to extract text from image\u001B[39;00m\n\u001B[0;32m      3\u001B[0m     text \u001B[38;5;241m=\u001B[39m pytesseract\u001B[38;5;241m.\u001B[39mimage_to_string(image)\n",
      "\u001B[1;31mNameError\u001B[0m: name 'images' is not defined"
     ]
    }
   ],
   "source": [
    "for i, image in enumerate(images):\n",
    "    # Use pytesseract to extract text from image\n",
    "    text = pytesseract.image_to_string(image)"
   ],
   "metadata": {
    "collapsed": false,
    "ExecuteTime": {
     "end_time": "2023-06-13T19:20:33.611931400Z",
     "start_time": "2023-06-13T19:20:33.559514200Z"
    }
   }
  },
  {
   "cell_type": "code",
   "execution_count": 39,
   "outputs": [
    {
     "name": "stdout",
     "output_type": "stream",
     "text": [
      "Text from page 1:\n",
      "THE COFFEE POT\n",
      "\n",
      "While sipping her morning coffee, Brooke takes stock of all that has happened since her dad\n",
      "died eight months ago. Giving into her family’s wishes, Brooke quit her job as a biochemical\n",
      "engineer and moved back to Springfield to take over as President of The Coffee Pot. Sadly,\n",
      "things have not gone well. The Coffee Pot was still losing money and Brooke missed her father\n",
      "more than ever. He had been a charismatic guy, who used to spend his days visiting and\n",
      "playfully joking with The Coffee Pot staff while conveying his vision of how the perfect coffee\n",
      "shop should be run. In essence, he wanted all Coffee Pots to be the same — each would have\n",
      "the same friendly service, quality coffee, and inviting atmosphere. Today, Brooke thought, this\n",
      "was definitely not the case. In fact, due to high staff turnover, it was rare to even be served by\n",
      "the same person on successive visits.\n",
      "\n",
      "Brooke’s father founded The Coffee Pot in the early 1980s and had grown it to eight locations,\n",
      "starting in Springfield before expanding to Peoria. The Coffee Pot flourished during the 1980s\n",
      "and 1990s, but had lost money in recent years. Despite losing money, Brooke’s father had not\n",
      "altered its strategy, which was based on being located in shopping mall food courts and relying\n",
      "on walk-by traffic. Realizing this, Brooke’s first priority as Company President was to develop a\n",
      "new strategy.\n",
      "\n",
      "Strategic analysis quickly confirmed that The Coffee Pot could not compete with Starbucks. The\n",
      "company therefore needed to find another way to compete if it were to be successful.\n",
      "Fortunately, Brooke’s father had diagrammed a new brewing technology that would\n",
      "significantly reduce cost. Using her bio-chemical engineering knowledge, Brooke built a\n",
      "prototype of his brewing machine, which she called the cold mesamosis brewing system. After\n",
      "extensive taste-testing, the new brewing machine was declared a success; it brewed seven to\n",
      "eight times the amount of coffee from the same coffee grinds without affecting the taste. In\n",
      "fact, the taste was as good in the eighth brewing as the first.\n",
      "\n",
      "Spurred by the success of the prototype, Brooke borrowed money from the bank to construct\n",
      "eight machines, and quickly installed them in all The Coffee Pots. With lower costs assured,\n",
      "Brooke embarked on a strategy of targeting price-sensitive coffee drinkers. In the months that\n",
      "followed, Brooke worked part-time, spending the rest of her days with her children and\n",
      "widowed mother. Still, Brooke was shocked when two weeks ago she received the quarterly\n",
      "financial report and saw that The Coffee Pot, Inc. was still losing money. Worse yet, there were\n",
      "not enough funds in the bank to meet the monthly loan payment.\n",
      "\n",
      "Looking for answers, Brooke called Auntie Susan, her bookkeeper, who had been with The\n",
      "Coffee Pot since finishing high school in 1982. All Auntie Susan could do was send over previous\n",
      "quarterly financial reports. Brooke noticed that the quarterly reports lacked detail and there\n",
      "was a pattern of decreasing earnings despite her father’s handwritten notes indicating that\n",
      "shop managers had promised each quarter to improve.\n",
      "\n",
      "Norman T. Sheehan, Department of Accounting, Edwards School of Business, University of Saskatchewan\n",
      "\n",
      "Text from page 2:\n",
      "After reviewing the quarterly reports, Brooke realized she needed help. She decided to call an\n",
      "old schoolmate, Jane, who was a partner in a small accounting firm. While Brooke searched for\n",
      "Jane’s phone number, Jack, the manager responsible for Administration, Purchasing, and\n",
      "Human Resources (HR), dropped by to show off his newest golf club, which one of the Coffee\n",
      "Pot’s suppliers had just sent him. Brooke had grown to like Jack whom her dad, due to his\n",
      "failing health, had hired a couple of years ago. Jack frequently provided her with free tickets to\n",
      "concerts, hockey games, etc., which he received from suppliers.\n",
      "\n",
      "Before Jack left her office, Brooke congratulated him on beating his previous quarter’s numbers\n",
      "and, thus, earning his quarterly bonus. Jack often changed suppliers as he chased the lowest\n",
      "prices; his purchasing strategy appeared to be working as purchasing costs were lower than last\n",
      "year. His training expenses were also down, even though staff turnover was significantly higher\n",
      "than last year.\n",
      "\n",
      "Still sipping her morning coffee, Brooke begins to read the report Jane had just sent over. Jane\n",
      "writes that she strongly supports Brooke’s strategy, but has three areas of concern:\n",
      "\n",
      "1. The Coffee Pot had overpaid lease rentals in some malls.\n",
      "\n",
      "Although Jane suspected no problems, The Coffee Pot, Inc. has never been audited.\n",
      "\n",
      "3. Brooke’s biggest shock was reading that a recently hired manager in Peoria had doubled the\n",
      "size of the shop by taking over the lease of the adjacent space and was serving pizza and\n",
      "beer. The manager justified this to Jane by saying that due to the coffee bean quality he\n",
      "needed to expand the shop’s product offerings.\n",
      "\n",
      "N\n",
      "\n",
      "Still unsure what to do, Brooke gets ready to leave for The Coffee Pot’s quarterly management\n",
      "meeting. She is confident that her new strategy of offering quality, low-cost coffee to mall\n",
      "shoppers is the right one, but is uncertain how to make it pay off.\n",
      "QUESTIONS\n",
      "1. Analyze The Coffee Pot’s competitive environment using Porter’s Five Forces\n",
      "Framework. When completed, propose key success factors for The Coffee Pot given its\n",
      "\n",
      "competitive situation.\n",
      "\n",
      "2. Discuss the management control issues that may be hindering Brooke from increasing\n",
      "The Coffee Pot’s profitability.\n",
      "\n",
      "3. Propose recommendations that address the issues raised above.\n",
      "\n",
      "Norman T. Sheehan, Department of Accounting, Edwards School of Business, University of Saskatchewan\n",
      "\n"
     ]
    }
   ],
   "source": [
    "# Loop through the images and process them with pytesseract\n",
    "for i, image in enumerate(images):\n",
    "    # Use pytesseract to extract text from the image\n",
    "    text = pytesseract.image_to_string(image)\n",
    "\n",
    "\n",
    "    with open(f'output_page_{i + 1}.txt', 'w') as file:\n",
    "        file.write(text)\n",
    "\n",
    "    # Optionally print text to console\n",
    "    print(f'Text from page {i + 1}:')\n",
    "    print(text)\n"
   ],
   "metadata": {
    "collapsed": false,
    "ExecuteTime": {
     "end_time": "2023-06-13T17:58:25.852800300Z",
     "start_time": "2023-06-13T17:58:18.455963300Z"
    }
   }
  },
  {
   "cell_type": "code",
   "execution_count": 40,
   "outputs": [
    {
     "name": "stdout",
     "output_type": "stream",
     "text": [
      "Text from page 1:\n",
      "THE COFFEE POT\n",
      "\n",
      "While sipping her morning coffee, Brooke takes stock of all that has happened since her dad\n",
      "died eight months ago. Giving into her family’s wishes, Brooke quit her job as a biochemical\n",
      "engineer and moved back to Springfield to take over as President of The Coffee Pot. Sadly,\n",
      "things have not gone well. The Coffee Pot was still losing money and Brooke missed her father\n",
      "more than ever. He had been a charismatic guy, who used to spend his days visiting and\n",
      "playfully joking with The Coffee Pot staff while conveying his vision of how the perfect coffee\n",
      "shop should be run. In essence, he wanted all Coffee Pots to be the same — each would have\n",
      "the same friendly service, quality coffee, and inviting atmosphere. Today, Brooke thought, this\n",
      "was definitely not the case. In fact, due to high staff turnover, it was rare to even be served by\n",
      "the same person on successive visits.\n",
      "\n",
      "Brooke’s father founded The Coffee Pot in the early 1980s and had grown it to eight locations,\n",
      "starting in Springfield before expanding to Peoria. The Coffee Pot flourished during the 1980s\n",
      "and 1990s, but had lost money in recent years. Despite losing money, Brooke’s father had not\n",
      "altered its strategy, which was based on being located in shopping mall food courts and relying\n",
      "on walk-by traffic. Realizing this, Brooke’s first priority as Company President was to develop a\n",
      "new strategy.\n",
      "\n",
      "Strategic analysis quickly confirmed that The Coffee Pot could not compete with Starbucks. The\n",
      "company therefore needed to find another way to compete if it were to be successful.\n",
      "Fortunately, Brooke’s father had diagrammed a new brewing technology that would\n",
      "significantly reduce cost. Using her bio-chemical engineering knowledge, Brooke built a\n",
      "prototype of his brewing machine, which she called the cold mesamosis brewing system. After\n",
      "extensive taste-testing, the new brewing machine was declared a success; it brewed seven to\n",
      "eight times the amount of coffee from the same coffee grinds without affecting the taste. In\n",
      "fact, the taste was as good in the eighth brewing as the first.\n",
      "\n",
      "Spurred by the success of the prototype, Brooke borrowed money from the bank to construct\n",
      "eight machines, and quickly installed them in all The Coffee Pots. With lower costs assured,\n",
      "Brooke embarked on a strategy of targeting price-sensitive coffee drinkers. In the months that\n",
      "followed, Brooke worked part-time, spending the rest of her days with her children and\n",
      "widowed mother. Still, Brooke was shocked when two weeks ago she received the quarterly\n",
      "financial report and saw that The Coffee Pot, Inc. was still losing money. Worse yet, there were\n",
      "not enough funds in the bank to meet the monthly loan payment.\n",
      "\n",
      "Looking for answers, Brooke called Auntie Susan, her bookkeeper, who had been with The\n",
      "Coffee Pot since finishing high school in 1982. All Auntie Susan could do was send over previous\n",
      "quarterly financial reports. Brooke noticed that the quarterly reports lacked detail and there\n",
      "was a pattern of decreasing earnings despite her father’s handwritten notes indicating that\n",
      "shop managers had promised each quarter to improve.\n",
      "\n",
      "Norman T. Sheehan, Department of Accounting, Edwards School of Business, University of Saskatchewan\n",
      "\n",
      "Text from page 2:\n",
      "After reviewing the quarterly reports, Brooke realized she needed help. She decided to call an\n",
      "old schoolmate, Jane, who was a partner in a small accounting firm. While Brooke searched for\n",
      "Jane’s phone number, Jack, the manager responsible for Administration, Purchasing, and\n",
      "Human Resources (HR), dropped by to show off his newest golf club, which one of the Coffee\n",
      "Pot’s suppliers had just sent him. Brooke had grown to like Jack whom her dad, due to his\n",
      "failing health, had hired a couple of years ago. Jack frequently provided her with free tickets to\n",
      "concerts, hockey games, etc., which he received from suppliers.\n",
      "\n",
      "Before Jack left her office, Brooke congratulated him on beating his previous quarter’s numbers\n",
      "and, thus, earning his quarterly bonus. Jack often changed suppliers as he chased the lowest\n",
      "prices; his purchasing strategy appeared to be working as purchasing costs were lower than last\n",
      "year. His training expenses were also down, even though staff turnover was significantly higher\n",
      "than last year.\n",
      "\n",
      "Still sipping her morning coffee, Brooke begins to read the report Jane had just sent over. Jane\n",
      "writes that she strongly supports Brooke’s strategy, but has three areas of concern:\n",
      "\n",
      "1. The Coffee Pot had overpaid lease rentals in some malls.\n",
      "\n",
      "Although Jane suspected no problems, The Coffee Pot, Inc. has never been audited.\n",
      "\n",
      "3. Brooke’s biggest shock was reading that a recently hired manager in Peoria had doubled the\n",
      "size of the shop by taking over the lease of the adjacent space and was serving pizza and\n",
      "beer. The manager justified this to Jane by saying that due to the coffee bean quality he\n",
      "needed to expand the shop’s product offerings.\n",
      "\n",
      "N\n",
      "\n",
      "Still unsure what to do, Brooke gets ready to leave for The Coffee Pot’s quarterly management\n",
      "meeting. She is confident that her new strategy of offering quality, low-cost coffee to mall\n",
      "shoppers is the right one, but is uncertain how to make it pay off.\n",
      "QUESTIONS\n",
      "1. Analyze The Coffee Pot’s competitive environment using Porter’s Five Forces\n",
      "Framework. When completed, propose key success factors for The Coffee Pot given its\n",
      "\n",
      "competitive situation.\n",
      "\n",
      "2. Discuss the management control issues that may be hindering Brooke from increasing\n",
      "The Coffee Pot’s profitability.\n",
      "\n",
      "3. Propose recommendations that address the issues raised above.\n",
      "\n",
      "Norman T. Sheehan, Department of Accounting, Edwards School of Business, University of Saskatchewan\n",
      "\n"
     ]
    }
   ],
   "source": [
    "with open('output_combined.txt', 'w') as file:\n",
    "    # Loop through the images and process them with pytesseract\n",
    "    for i, image in enumerate(images):\n",
    "        # Use pytesseract to extract text from the image\n",
    "        text = pytesseract.image_to_string(image)\n",
    "\n",
    "        # Write the text to the same output file\n",
    "        file.write(text)\n",
    "\n",
    "        # Optionally print text to console\n",
    "        print(f'Text from page {i + 1}:')\n",
    "        print(text)"
   ],
   "metadata": {
    "collapsed": false,
    "ExecuteTime": {
     "end_time": "2023-06-13T18:03:07.655811600Z",
     "start_time": "2023-06-13T18:03:04.723151300Z"
    }
   }
  }
 ],
 "metadata": {
  "kernelspec": {
   "display_name": "Python 3",
   "language": "python",
   "name": "python3"
  },
  "language_info": {
   "codemirror_mode": {
    "name": "ipython",
    "version": 2
   },
   "file_extension": ".py",
   "mimetype": "text/x-python",
   "name": "python",
   "nbconvert_exporter": "python",
   "pygments_lexer": "ipython2",
   "version": "2.7.6"
  }
 },
 "nbformat": 4,
 "nbformat_minor": 0
}

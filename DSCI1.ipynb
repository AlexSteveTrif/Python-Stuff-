{
 "cells": [
  {
   "cell_type": "markdown",
   "id": "0fe845c2",
   "metadata": {},
   "source": [
    "# Variables \n"
   ]
  },
  {
   "cell_type": "code",
   "execution_count": 2,
   "id": "199a36b4",
   "metadata": {
    "ExecuteTime": {
     "end_time": "2023-05-12T19:53:53.875962600Z",
     "start_time": "2023-05-12T19:53:53.850851500Z"
    }
   },
   "outputs": [],
   "source": [
    "var_a = 0.123"
   ]
  },
  {
   "cell_type": "code",
   "execution_count": 3,
   "id": "8c4765d1",
   "metadata": {
    "ExecuteTime": {
     "end_time": "2023-05-12T19:53:56.375560700Z",
     "start_time": "2023-05-12T19:53:56.357556500Z"
    }
   },
   "outputs": [
    {
     "name": "stdout",
     "output_type": "stream",
     "text": [
      "0.123\n"
     ]
    }
   ],
   "source": [
    "print(var_a)\n"
   ]
  },
  {
   "cell_type": "code",
   "execution_count": 4,
   "id": "c500ed89",
   "metadata": {
    "ExecuteTime": {
     "end_time": "2023-05-12T19:53:58.577245600Z",
     "start_time": "2023-05-12T19:53:58.564576300Z"
    }
   },
   "outputs": [
    {
     "data": {
      "text/plain": "float"
     },
     "execution_count": 4,
     "metadata": {},
     "output_type": "execute_result"
    }
   ],
   "source": [
    "type(var_a)"
   ]
  },
  {
   "cell_type": "markdown",
   "id": "12d3665d",
   "metadata": {},
   "source": [
    "# Data Types "
   ]
  },
  {
   "cell_type": "code",
   "execution_count": 6,
   "id": "9012ec22",
   "metadata": {
    "ExecuteTime": {
     "end_time": "2023-05-12T19:54:03.771613400Z",
     "start_time": "2023-05-12T19:54:03.763385300Z"
    }
   },
   "outputs": [
    {
     "name": "stdout",
     "output_type": "stream",
     "text": [
      "Pluto\n"
     ]
    }
   ],
   "source": [
    "# This is declaring a variable as a string \n",
    "test_var = 'Pluto'\n",
    "print(test_var)"
   ]
  },
  {
   "cell_type": "code",
   "execution_count": 7,
   "id": "1d1183ef",
   "metadata": {
    "ExecuteTime": {
     "end_time": "2023-05-12T19:54:08.761283500Z",
     "start_time": "2023-05-12T19:54:08.742732400Z"
    }
   },
   "outputs": [
    {
     "data": {
      "text/plain": "str"
     },
     "execution_count": 7,
     "metadata": {},
     "output_type": "execute_result"
    }
   ],
   "source": [
    "type(test_var)"
   ]
  },
  {
   "cell_type": "code",
   "execution_count": 10,
   "id": "267729d0",
   "metadata": {
    "ExecuteTime": {
     "end_time": "2023-05-12T19:54:12.669649600Z",
     "start_time": "2023-05-12T19:54:12.659235500Z"
    }
   },
   "outputs": [
    {
     "name": "stdout",
     "output_type": "stream",
     "text": [
      "134373\n"
     ]
    }
   ],
   "source": [
    "# This is declaring a variable as an integer \n",
    "int_var = 134373\n",
    "print(int_var)"
   ]
  },
  {
   "cell_type": "code",
   "execution_count": 11,
   "id": "e63ab3ac",
   "metadata": {
    "ExecuteTime": {
     "end_time": "2023-05-12T19:54:22.753879400Z",
     "start_time": "2023-05-12T19:54:22.741753600Z"
    }
   },
   "outputs": [
    {
     "data": {
      "text/plain": "int"
     },
     "execution_count": 11,
     "metadata": {},
     "output_type": "execute_result"
    }
   ],
   "source": [
    "type(int_var)"
   ]
  },
  {
   "cell_type": "code",
   "execution_count": 31,
   "id": "b771e16c",
   "metadata": {},
   "outputs": [
    {
     "data": {
      "text/plain": [
       "134383"
      ]
     },
     "execution_count": 31,
     "metadata": {},
     "output_type": "execute_result"
    }
   ],
   "source": [
    "int_var + 10"
   ]
  },
  {
   "cell_type": "code",
   "execution_count": 34,
   "id": "dd36f60a",
   "metadata": {},
   "outputs": [
    {
     "name": "stdout",
     "output_type": "stream",
     "text": [
      "124.151513251\n"
     ]
    }
   ],
   "source": [
    "# This is declaring a variable as a float \n",
    "float_var = 124.151513251\n",
    "print(float_var)"
   ]
  },
  {
   "cell_type": "code",
   "execution_count": 36,
   "id": "ce584fc6",
   "metadata": {},
   "outputs": [
    {
     "data": {
      "text/plain": [
       "float"
      ]
     },
     "execution_count": 36,
     "metadata": {},
     "output_type": "execute_result"
    }
   ],
   "source": [
    "type(float_var)"
   ]
  },
  {
   "cell_type": "code",
   "execution_count": 38,
   "id": "eb59c608",
   "metadata": {},
   "outputs": [
    {
     "name": "stdout",
     "output_type": "stream",
     "text": [
      "True\n"
     ]
    }
   ],
   "source": [
    "# This is declaring a boolean value to a variable \n",
    "bool_var = True\n",
    "print(bool_var)"
   ]
  },
  {
   "cell_type": "code",
   "execution_count": 40,
   "id": "36184224",
   "metadata": {},
   "outputs": [
    {
     "data": {
      "text/plain": [
       "bool"
      ]
     },
     "execution_count": 40,
     "metadata": {},
     "output_type": "execute_result"
    }
   ],
   "source": [
    "type(bool_var)"
   ]
  },
  {
   "cell_type": "code",
   "execution_count": 42,
   "id": "aa7305c4",
   "metadata": {},
   "outputs": [
    {
     "name": "stdout",
     "output_type": "stream",
     "text": [
      "False\n"
     ]
    }
   ],
   "source": [
    "print(bool(0))"
   ]
  },
  {
   "cell_type": "code",
   "execution_count": 44,
   "id": "ba8ca4e7",
   "metadata": {},
   "outputs": [
    {
     "name": "stdout",
     "output_type": "stream",
     "text": [
      "True\n"
     ]
    }
   ],
   "source": [
    "print(bool(1))"
   ]
  },
  {
   "cell_type": "code",
   "execution_count": 50,
   "id": "cef72ec6",
   "metadata": {},
   "outputs": [
    {
     "data": {
      "text/plain": [
       "float"
      ]
     },
     "execution_count": 50,
     "metadata": {},
     "output_type": "execute_result"
    }
   ],
   "source": [
    "type(float(1))"
   ]
  },
  {
   "cell_type": "code",
   "execution_count": 54,
   "id": "9a365e65",
   "metadata": {},
   "outputs": [
    {
     "name": "stdout",
     "output_type": "stream",
     "text": [
      "[1, 2, 3, 123.456, 'Rat']\n"
     ]
    }
   ],
   "source": [
    "# This is declaring a list \n",
    "list_var = [1,2,3, 123.456, \"Rat\"]\n",
    "print(list_var)"
   ]
  },
  {
   "cell_type": "code",
   "execution_count": 60,
   "id": "dc015ca0",
   "metadata": {},
   "outputs": [
    {
     "data": {
      "text/plain": [
       "list"
      ]
     },
     "execution_count": 60,
     "metadata": {},
     "output_type": "execute_result"
    }
   ],
   "source": [
    "type(list_var)"
   ]
  },
  {
   "cell_type": "code",
   "execution_count": 78,
   "id": "839bf0f5",
   "metadata": {},
   "outputs": [
    {
     "data": {
      "text/plain": [
       "3"
      ]
     },
     "execution_count": 78,
     "metadata": {},
     "output_type": "execute_result"
    }
   ],
   "source": [
    "list_var[2]"
   ]
  },
  {
   "cell_type": "code",
   "execution_count": 79,
   "id": "a82c67c6",
   "metadata": {},
   "outputs": [
    {
     "name": "stdout",
     "output_type": "stream",
     "text": [
      "[1, 2, 555555555555, 123.456, 'Rat']\n"
     ]
    }
   ],
   "source": [
    "list_var[2] = 555555555555\n",
    "print(list_var)"
   ]
  },
  {
   "cell_type": "code",
   "execution_count": 76,
   "id": "77a8d760",
   "metadata": {},
   "outputs": [
    {
     "name": "stdout",
     "output_type": "stream",
     "text": [
      "(1, 2, 3, 123.456, 'Rat')\n"
     ]
    }
   ],
   "source": [
    "# This is defining a TUPLE variable, which is IMMUTABLE (cant change values)\n",
    "tuple_var = (1,2, 3,  123.456, \"Rat\")\n",
    "print(tuple_var)"
   ]
  },
  {
   "cell_type": "code",
   "execution_count": 74,
   "id": "2d3d066c",
   "metadata": {},
   "outputs": [
    {
     "data": {
      "text/plain": [
       "tuple"
      ]
     },
     "execution_count": 74,
     "metadata": {},
     "output_type": "execute_result"
    }
   ],
   "source": [
    "type(tuple_var)"
   ]
  },
  {
   "cell_type": "code",
   "execution_count": 80,
   "id": "eaf959b9",
   "metadata": {},
   "outputs": [
    {
     "data": {
      "text/plain": [
       "3"
      ]
     },
     "execution_count": 80,
     "metadata": {},
     "output_type": "execute_result"
    }
   ],
   "source": [
    "tuple_var[2]"
   ]
  },
  {
   "cell_type": "code",
   "execution_count": 82,
   "id": "7feebe57",
   "metadata": {},
   "outputs": [
    {
     "ename": "TypeError",
     "evalue": "'tuple' object does not support item assignment",
     "output_type": "error",
     "traceback": [
      "\u001B[1;31m---------------------------------------------------------------------------\u001B[0m",
      "\u001B[1;31mTypeError\u001B[0m                                 Traceback (most recent call last)",
      "Cell \u001B[1;32mIn[82], line 1\u001B[0m\n\u001B[1;32m----> 1\u001B[0m tuple_var[\u001B[38;5;241m2\u001B[39m] \u001B[38;5;241m=\u001B[39m \u001B[38;5;241m123123123\u001B[39m\n\u001B[0;32m      2\u001B[0m \u001B[38;5;28mprint\u001B[39m(tuple_var)\n",
      "\u001B[1;31mTypeError\u001B[0m: 'tuple' object does not support item assignment"
     ]
    }
   ],
   "source": [
    "tuple_var[2] = 123123123\n",
    "print(tuple_var)"
   ]
  },
  {
   "cell_type": "code",
   "execution_count": 93,
   "id": "2c870629",
   "metadata": {},
   "outputs": [
    {
     "name": "stdout",
     "output_type": "stream",
     "text": [
      "{1, 2, 3, 'Rat', 123.456}\n"
     ]
    }
   ],
   "source": [
    "# This is creating a set variable, IMMUTABLE (cant change values), No Duplicates\n",
    "set_var = {1,2, 3,  123.456, \"Rat\", 3}\n",
    "print(set_var)"
   ]
  },
  {
   "cell_type": "code",
   "execution_count": 94,
   "id": "6ab2186a",
   "metadata": {},
   "outputs": [
    {
     "data": {
      "text/plain": [
       "set"
      ]
     },
     "execution_count": 94,
     "metadata": {},
     "output_type": "execute_result"
    }
   ],
   "source": [
    "type(set_var)"
   ]
  },
  {
   "cell_type": "code",
   "execution_count": 102,
   "id": "981342dd",
   "metadata": {},
   "outputs": [
    {
     "data": {
      "text/plain": [
       "[1, 2, 3, 4, 5, 6, 7]"
      ]
     },
     "execution_count": 102,
     "metadata": {},
     "output_type": "execute_result"
    }
   ],
   "source": [
    "# Tpyecasting list to set back to list to get rid of duplicates\n",
    "list_var1 = [1, 2, 4, 5, 2, 5, 6, 7, 2, 2, 3, 5, 3, 3, 3, 2, 1]\n",
    "list(set(list_var1))"
   ]
  },
  {
   "cell_type": "code",
   "execution_count": 105,
   "id": "343e2f03",
   "metadata": {},
   "outputs": [
    {
     "name": "stdout",
     "output_type": "stream",
     "text": [
      "{'name': 'Alex', 'fav_colour': 'Yellow', 'fav_num': 2}\n"
     ]
    }
   ],
   "source": [
    "# Defining a dictionary variable \n",
    "dict_var = {'name':\"Alex\", 'fav_colour':\"Yellow\",'fav_num':2}\n",
    "print(dict_var)"
   ]
  },
  {
   "cell_type": "code",
   "execution_count": 111,
   "id": "b464126c",
   "metadata": {},
   "outputs": [
    {
     "data": {
      "text/plain": [
       "'Alex'"
      ]
     },
     "execution_count": 111,
     "metadata": {},
     "output_type": "execute_result"
    }
   ],
   "source": [
    "dict_var['name']"
   ]
  },
  {
   "cell_type": "markdown",
   "id": "e8435a3a",
   "metadata": {},
   "source": [
    "# Lists "
   ]
  },
  {
   "cell_type": "code",
   "execution_count": 153,
   "id": "1af345eb",
   "metadata": {},
   "outputs": [],
   "source": [
    "# Create \n",
    "names = ['Neil', 'Buzz', 'Sally', 'Yuri', 'Elon']"
   ]
  },
  {
   "cell_type": "code",
   "execution_count": 154,
   "id": "f9a780b2",
   "metadata": {},
   "outputs": [
    {
     "data": {
      "text/plain": [
       "'Buzz'"
      ]
     },
     "execution_count": 154,
     "metadata": {},
     "output_type": "execute_result"
    }
   ],
   "source": [
    "# Read\n",
    "names[1]"
   ]
  },
  {
   "cell_type": "code",
   "execution_count": 155,
   "id": "b120c45e",
   "metadata": {
    "scrolled": true
   },
   "outputs": [
    {
     "data": {
      "text/plain": [
       "'Elon'"
      ]
     },
     "execution_count": 155,
     "metadata": {},
     "output_type": "execute_result"
    }
   ],
   "source": [
    "names[-1]"
   ]
  },
  {
   "cell_type": "code",
   "execution_count": 156,
   "id": "fccc1883",
   "metadata": {},
   "outputs": [
    {
     "data": {
      "text/plain": [
       "5"
      ]
     },
     "execution_count": 156,
     "metadata": {},
     "output_type": "execute_result"
    }
   ],
   "source": [
    "len(names)"
   ]
  },
  {
   "cell_type": "code",
   "execution_count": 157,
   "id": "82b89c68",
   "metadata": {},
   "outputs": [],
   "source": [
    "# Update"
   ]
  },
  {
   "cell_type": "code",
   "execution_count": 158,
   "id": "a0c9be67",
   "metadata": {},
   "outputs": [
    {
     "name": "stdout",
     "output_type": "stream",
     "text": [
      "['Neil', 'Buzz', 'Sally', 'Yuri', 'Alex']\n"
     ]
    }
   ],
   "source": [
    "names[-1] = 'Alex'\n",
    "print(names)"
   ]
  },
  {
   "cell_type": "code",
   "execution_count": 159,
   "id": "0f6ee02f",
   "metadata": {},
   "outputs": [
    {
     "data": {
      "text/plain": [
       "['Neil', 'Buzz', 'Sally', 'Yuri', 'Alex', 'elon']"
      ]
     },
     "execution_count": 159,
     "metadata": {},
     "output_type": "execute_result"
    }
   ],
   "source": [
    "names.append('elon')\n",
    "names"
   ]
  },
  {
   "cell_type": "code",
   "execution_count": 160,
   "id": "5850946e",
   "metadata": {},
   "outputs": [
    {
     "data": {
      "text/plain": [
       "['Richard', 'Neil', 'Buzz', 'Sally', 'Yuri', 'Alex', 'elon']"
      ]
     },
     "execution_count": 160,
     "metadata": {},
     "output_type": "execute_result"
    }
   ],
   "source": [
    "names.insert(0, 'Richard')\n",
    "names"
   ]
  },
  {
   "cell_type": "code",
   "execution_count": 117,
   "id": "06196db8",
   "metadata": {},
   "outputs": [],
   "source": [
    "# Delete "
   ]
  },
  {
   "cell_type": "code",
   "execution_count": 162,
   "id": "079956a0",
   "metadata": {},
   "outputs": [
    {
     "data": {
      "text/plain": [
       "['Richard', 'Neil', 'Buzz', 'Sally', 'elon']"
      ]
     },
     "execution_count": 162,
     "metadata": {},
     "output_type": "execute_result"
    }
   ],
   "source": [
    "del names[-2]\n",
    "names\n"
   ]
  },
  {
   "cell_type": "markdown",
   "id": "993614b6",
   "metadata": {},
   "source": [
    "# Dictionaries"
   ]
  },
  {
   "cell_type": "code",
   "execution_count": 163,
   "id": "431264fa",
   "metadata": {},
   "outputs": [],
   "source": [
    "# Create \n",
    "astronuat = {\n",
    "    'name':\"elon\",\n",
    "    'suit_size':\"XL\",\n",
    "    'allergies':\"Nuts\"\n",
    "}\n"
   ]
  },
  {
   "cell_type": "code",
   "execution_count": null,
   "id": "d55bc579",
   "metadata": {},
   "outputs": [],
   "source": [
    "# Read"
   ]
  },
  {
   "cell_type": "code",
   "execution_count": 166,
   "id": "cc7040e3",
   "metadata": {},
   "outputs": [
    {
     "data": {
      "text/plain": [
       "{'name': 'elon', 'suit_size': 'XL', 'allergies': 'Nuts'}"
      ]
     },
     "execution_count": 166,
     "metadata": {},
     "output_type": "execute_result"
    }
   ],
   "source": [
    "astronuat"
   ]
  },
  {
   "cell_type": "code",
   "execution_count": 169,
   "id": "1a4c34d2",
   "metadata": {},
   "outputs": [
    {
     "data": {
      "text/plain": [
       "'Nuts'"
      ]
     },
     "execution_count": 169,
     "metadata": {},
     "output_type": "execute_result"
    }
   ],
   "source": [
    "astronuat['allergies']"
   ]
  },
  {
   "cell_type": "code",
   "execution_count": 171,
   "id": "7f92b603",
   "metadata": {},
   "outputs": [
    {
     "data": {
      "text/plain": [
       "dict_keys(['name', 'suit_size', 'allergies'])"
      ]
     },
     "execution_count": 171,
     "metadata": {},
     "output_type": "execute_result"
    }
   ],
   "source": [
    "astronuat.keys()"
   ]
  },
  {
   "cell_type": "code",
   "execution_count": 173,
   "id": "6a585cb5",
   "metadata": {},
   "outputs": [
    {
     "data": {
      "text/plain": [
       "dict_values(['elon', 'XL', 'Nuts'])"
      ]
     },
     "execution_count": 173,
     "metadata": {},
     "output_type": "execute_result"
    }
   ],
   "source": [
    "astronuat.values()"
   ]
  },
  {
   "cell_type": "code",
   "execution_count": 174,
   "id": "001eafdd",
   "metadata": {},
   "outputs": [],
   "source": [
    "# Update "
   ]
  },
  {
   "cell_type": "code",
   "execution_count": 177,
   "id": "3226af1b",
   "metadata": {},
   "outputs": [],
   "source": [
    "astronuat['allergies'] = \"Mangos\"\n"
   ]
  },
  {
   "cell_type": "code",
   "execution_count": 179,
   "id": "3f599367",
   "metadata": {},
   "outputs": [
    {
     "data": {
      "text/plain": [
       "{'name': 'elon', 'suit_size': 'XL', 'allergies': 'Mangos'}"
      ]
     },
     "execution_count": 179,
     "metadata": {},
     "output_type": "execute_result"
    }
   ],
   "source": [
    "astronuat"
   ]
  },
  {
   "cell_type": "code",
   "execution_count": 183,
   "id": "e0035ac3",
   "metadata": {},
   "outputs": [
    {
     "data": {
      "text/plain": [
       "{'name': 'elon',\n",
       " 'suit_size': 'XL',\n",
       " 'allergies': 'Mangos',\n",
       " 'space_ship': 'Galactic 1'}"
      ]
     },
     "execution_count": 183,
     "metadata": {},
     "output_type": "execute_result"
    }
   ],
   "source": [
    "astronuat['space_ship'] = \"Galactic 1\"\n",
    "astronuat"
   ]
  },
  {
   "cell_type": "code",
   "execution_count": 12,
   "outputs": [],
   "source": [],
   "metadata": {
    "collapsed": false,
    "ExecuteTime": {
     "end_time": "2023-05-12T19:55:58.302379800Z",
     "start_time": "2023-05-12T19:55:58.293379100Z"
    }
   }
  },
  {
   "cell_type": "code",
   "execution_count": 12,
   "id": "6e3e4012",
   "metadata": {
    "ExecuteTime": {
     "end_time": "2023-05-12T19:55:25.741410200Z",
     "start_time": "2023-05-12T19:55:25.211292600Z"
    }
   },
   "outputs": [
    {
     "ename": "NameError",
     "evalue": "name 'astronuat' is not defined",
     "output_type": "error",
     "traceback": [
      "\u001B[1;31m---------------------------------------------------------------------------\u001B[0m",
      "\u001B[1;31mNameError\u001B[0m                                 Traceback (most recent call last)",
      "Cell \u001B[1;32mIn[12], line 2\u001B[0m\n\u001B[0;32m      1\u001B[0m \u001B[38;5;66;03m# Delete \u001B[39;00m\n\u001B[1;32m----> 2\u001B[0m \u001B[38;5;28;01mdel\u001B[39;00m \u001B[43mastronuat\u001B[49m[\u001B[38;5;124m'\u001B[39m\u001B[38;5;124mspace_ship\u001B[39m\u001B[38;5;124m'\u001B[39m]\n\u001B[0;32m      3\u001B[0m astronuat\n",
      "\u001B[1;31mNameError\u001B[0m: name 'astronuat' is not defined"
     ]
    }
   ],
   "source": [
    "# Delete \n",
    "del astronuat['space_ship']\n",
    "astronuat"
   ]
  }
 ],
 "metadata": {
  "kernelspec": {
   "display_name": "Python 3 (ipykernel)",
   "language": "python",
   "name": "python3"
  },
  "language_info": {
   "codemirror_mode": {
    "name": "ipython",
    "version": 3
   },
   "file_extension": ".py",
   "mimetype": "text/x-python",
   "name": "python",
   "nbconvert_exporter": "python",
   "pygments_lexer": "ipython3",
   "version": "3.10.9"
  }
 },
 "nbformat": 4,
 "nbformat_minor": 5
}

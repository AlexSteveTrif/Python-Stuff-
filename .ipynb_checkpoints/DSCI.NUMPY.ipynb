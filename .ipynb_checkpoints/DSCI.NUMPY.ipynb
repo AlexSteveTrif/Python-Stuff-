{
 "cells": [
  {
   "cell_type": "code",
   "execution_count": 1,
   "outputs": [],
   "source": [
    "import numpy as np"
   ],
   "metadata": {
    "collapsed": false,
    "ExecuteTime": {
     "end_time": "2023-05-12T20:14:53.433785800Z",
     "start_time": "2023-05-12T20:14:53.346293200Z"
    }
   }
  },
  {
   "cell_type": "markdown",
   "source": [
    "# Create\n"
   ],
   "metadata": {
    "collapsed": false
   }
  },
  {
   "cell_type": "code",
   "execution_count": 223,
   "outputs": [],
   "source": [
    "data = np.random.rand(2,3,4)\n",
    "zeros = np.zeros((2,2,2))\n",
    "full = np.full((2,2,2),7)\n",
    "ones = np.ones((2,2,2))"
   ],
   "metadata": {
    "collapsed": false,
    "ExecuteTime": {
     "end_time": "2023-05-12T21:58:49.990796500Z",
     "start_time": "2023-05-12T21:58:49.979708500Z"
    }
   }
  },
  {
   "cell_type": "code",
   "execution_count": 224,
   "outputs": [
    {
     "data": {
      "text/plain": "array([[[0., 0.],\n        [0., 0.]],\n\n       [[0., 0.],\n        [0., 0.]],\n\n       [[0., 0.],\n        [0., 0.]],\n\n       [[0., 0.],\n        [0., 0.]],\n\n       [[0., 0.],\n        [0., 0.]]])"
     },
     "execution_count": 224,
     "metadata": {},
     "output_type": "execute_result"
    }
   ],
   "source": [
    "zeros"
   ],
   "metadata": {
    "collapsed": false,
    "ExecuteTime": {
     "end_time": "2023-05-12T21:58:50.710712100Z",
     "start_time": "2023-05-12T21:58:50.694502500Z"
    }
   }
  },
  {
   "cell_type": "code",
   "execution_count": 15,
   "outputs": [
    {
     "data": {
      "text/plain": "array([[1, 2, 3, 4],\n       [2, 3, 4, 5]])"
     },
     "execution_count": 15,
     "metadata": {},
     "output_type": "execute_result"
    }
   ],
   "source": [
    "arr = np.array([[1,2,3,4], [2,3,4,5]])\n",
    "arr"
   ],
   "metadata": {
    "collapsed": false,
    "ExecuteTime": {
     "end_time": "2023-05-12T20:21:33.124569Z",
     "start_time": "2023-05-12T20:21:33.120567700Z"
    }
   }
  },
  {
   "cell_type": "code",
   "execution_count": 28,
   "outputs": [
    {
     "data": {
      "text/plain": "numpy.ndarray"
     },
     "execution_count": 28,
     "metadata": {},
     "output_type": "execute_result"
    }
   ],
   "source": [
    " type(arr)"
   ],
   "metadata": {
    "collapsed": false,
    "ExecuteTime": {
     "end_time": "2023-05-12T20:27:07.474828800Z",
     "start_time": "2023-05-12T20:27:07.455731600Z"
    }
   }
  },
  {
   "cell_type": "markdown",
   "source": [
    "# Read"
   ],
   "metadata": {
    "collapsed": false
   }
  },
  {
   "cell_type": "code",
   "execution_count": 20,
   "outputs": [],
   "source": [
    "# Attributes\n",
    "shape = data.shape\n",
    "size = data.size\n",
    "types: object = data.dtype"
   ],
   "metadata": {
    "collapsed": false,
    "ExecuteTime": {
     "end_time": "2023-05-12T20:24:15.568073100Z",
     "start_time": "2023-05-12T20:24:15.551883900Z"
    }
   }
  },
  {
   "cell_type": "code",
   "execution_count": 23,
   "outputs": [
    {
     "data": {
      "text/plain": "dtype('float64')"
     },
     "execution_count": 23,
     "metadata": {},
     "output_type": "execute_result"
    }
   ],
   "source": [
    "types"
   ],
   "metadata": {
    "collapsed": false,
    "ExecuteTime": {
     "end_time": "2023-05-12T20:24:46.334127600Z",
     "start_time": "2023-05-12T20:24:46.305153700Z"
    }
   }
  },
  {
   "cell_type": "code",
   "execution_count": 25,
   "outputs": [
    {
     "data": {
      "text/plain": "(3, 4)"
     },
     "execution_count": 25,
     "metadata": {},
     "output_type": "execute_result"
    }
   ],
   "source": [
    "shape"
   ],
   "metadata": {
    "collapsed": false,
    "ExecuteTime": {
     "end_time": "2023-05-12T20:24:55.550329200Z",
     "start_time": "2023-05-12T20:24:55.547320900Z"
    }
   }
  },
  {
   "cell_type": "code",
   "execution_count": 26,
   "outputs": [
    {
     "data": {
      "text/plain": "12"
     },
     "execution_count": 26,
     "metadata": {},
     "output_type": "execute_result"
    }
   ],
   "source": [
    "size"
   ],
   "metadata": {
    "collapsed": false,
    "ExecuteTime": {
     "end_time": "2023-05-12T20:25:03.677609200Z",
     "start_time": "2023-05-12T20:25:03.673613700Z"
    }
   }
  },
  {
   "cell_type": "code",
   "execution_count": 58,
   "outputs": [],
   "source": [
    "# Slicing\n",
    "arr = data[0]\n",
    "slicer = data[0][0:2][1][2]\n",
    "reverse = data[-1]\n",
    "singleval = data[0][0][0]"
   ],
   "metadata": {
    "collapsed": false,
    "ExecuteTime": {
     "end_time": "2023-05-12T20:32:10.223454800Z",
     "start_time": "2023-05-12T20:32:10.205352300Z"
    }
   }
  },
  {
   "cell_type": "code",
   "execution_count": 59,
   "outputs": [
    {
     "data": {
      "text/plain": "array([[[0.58445969, 0.49851662, 0.39016407, 0.30556932],\n        [0.41530752, 0.57068597, 0.28107762, 0.81442893],\n        [0.08168858, 0.85345828, 0.12662113, 0.45559268]],\n\n       [[0.62600754, 0.52735972, 0.64431704, 0.44066832],\n        [0.17136425, 0.79187688, 0.81496264, 0.95934269],\n        [0.06024793, 0.91919749, 0.36873684, 0.83296904]]])"
     },
     "execution_count": 59,
     "metadata": {},
     "output_type": "execute_result"
    }
   ],
   "source": [
    "data"
   ],
   "metadata": {
    "collapsed": false,
    "ExecuteTime": {
     "end_time": "2023-05-12T20:32:10.520095500Z",
     "start_time": "2023-05-12T20:32:10.508382600Z"
    }
   }
  },
  {
   "cell_type": "code",
   "execution_count": 62,
   "outputs": [
    {
     "data": {
      "text/plain": "array([[0.58445969, 0.49851662, 0.39016407, 0.30556932],\n       [0.41530752, 0.57068597, 0.28107762, 0.81442893],\n       [0.08168858, 0.85345828, 0.12662113, 0.45559268]])"
     },
     "execution_count": 62,
     "metadata": {},
     "output_type": "execute_result"
    }
   ],
   "source": [
    "arr"
   ],
   "metadata": {
    "collapsed": false,
    "ExecuteTime": {
     "end_time": "2023-05-12T20:33:51.115500200Z",
     "start_time": "2023-05-12T20:33:51.102210700Z"
    }
   }
  },
  {
   "cell_type": "code",
   "execution_count": 60,
   "outputs": [
    {
     "data": {
      "text/plain": "0.2810776231195703"
     },
     "execution_count": 60,
     "metadata": {},
     "output_type": "execute_result"
    }
   ],
   "source": [
    "slicer"
   ],
   "metadata": {
    "collapsed": false,
    "ExecuteTime": {
     "end_time": "2023-05-12T20:32:10.784416800Z",
     "start_time": "2023-05-12T20:32:10.776170400Z"
    }
   }
  },
  {
   "cell_type": "code",
   "execution_count": 61,
   "outputs": [
    {
     "data": {
      "text/plain": "array([[0.62600754, 0.52735972, 0.64431704, 0.44066832],\n       [0.17136425, 0.79187688, 0.81496264, 0.95934269],\n       [0.06024793, 0.91919749, 0.36873684, 0.83296904]])"
     },
     "execution_count": 61,
     "metadata": {},
     "output_type": "execute_result"
    }
   ],
   "source": [
    "reverse"
   ],
   "metadata": {
    "collapsed": false,
    "ExecuteTime": {
     "end_time": "2023-05-12T20:33:35.647417Z",
     "start_time": "2023-05-12T20:33:35.642913900Z"
    }
   }
  },
  {
   "cell_type": "markdown",
   "source": [
    "# Update"
   ],
   "metadata": {
    "collapsed": false
   }
  },
  {
   "cell_type": "code",
   "execution_count": 63,
   "outputs": [],
   "source": [
    "list1 = np.random.rand(10)\n",
    "list2 = np.random.rand(10)"
   ],
   "metadata": {
    "collapsed": false,
    "ExecuteTime": {
     "end_time": "2023-05-12T20:35:04.983207500Z",
     "start_time": "2023-05-12T20:35:04.979192700Z"
    }
   }
  },
  {
   "cell_type": "code",
   "execution_count": 75,
   "outputs": [
    {
     "data": {
      "text/plain": "array([0.2437227 , 0.35264067, 0.52028098, 0.50067053, 0.14493594,\n       0.21740745, 0.97833613, 0.87082185, 0.46721925, 0.16691521])"
     },
     "execution_count": 75,
     "metadata": {},
     "output_type": "execute_result"
    }
   ],
   "source": [
    "list2\n"
   ],
   "metadata": {
    "collapsed": false,
    "ExecuteTime": {
     "end_time": "2023-05-12T20:40:38.642027Z",
     "start_time": "2023-05-12T20:40:38.630846800Z"
    }
   }
  },
  {
   "cell_type": "code",
   "execution_count": 67,
   "outputs": [],
   "source": [
    "# Basic Math\n",
    "add = np.add(list1, list2)\n",
    "sub = np.subtract(list1, list2)\n",
    "div = np.divide(list1, list2)\n",
    "mult = np.multiply(list1, list2)\n",
    "dot = np.dot(list1, list2)"
   ],
   "metadata": {
    "collapsed": false,
    "ExecuteTime": {
     "end_time": "2023-05-12T20:37:11.564766800Z",
     "start_time": "2023-05-12T20:37:11.548608700Z"
    }
   }
  },
  {
   "cell_type": "code",
   "execution_count": 68,
   "outputs": [
    {
     "data": {
      "text/plain": "array([0.58975046, 1.12646361, 1.07353949, 0.91889489, 1.04577048,\n       0.57309306, 1.30617335, 1.82083876, 1.22678859, 0.89520571])"
     },
     "execution_count": 68,
     "metadata": {},
     "output_type": "execute_result"
    }
   ],
   "source": [
    "add"
   ],
   "metadata": {
    "collapsed": false,
    "ExecuteTime": {
     "end_time": "2023-05-12T20:37:41.426325200Z",
     "start_time": "2023-05-12T20:37:41.421763200Z"
    }
   }
  },
  {
   "cell_type": "code",
   "execution_count": 69,
   "outputs": [
    {
     "data": {
      "text/plain": "array([ 0.10230507,  0.42118228,  0.03297754, -0.08244616,  0.7558986 ,\n        0.13827817, -0.65049892,  0.07919505,  0.2923501 ,  0.56137529])"
     },
     "execution_count": 69,
     "metadata": {},
     "output_type": "execute_result"
    }
   ],
   "source": [
    "sub"
   ],
   "metadata": {
    "collapsed": false,
    "ExecuteTime": {
     "end_time": "2023-05-12T20:37:43.817653Z",
     "start_time": "2023-05-12T20:37:43.813400100Z"
    }
   }
  },
  {
   "cell_type": "code",
   "execution_count": 70,
   "outputs": [
    {
     "data": {
      "text/plain": "array([1.4197601 , 2.19436673, 1.0633841 , 0.83532851, 6.21539803,\n       1.63603233, 0.3350967 , 1.09094289, 1.62572357, 4.36323635])"
     },
     "execution_count": 70,
     "metadata": {},
     "output_type": "execute_result"
    }
   ],
   "source": [
    "div"
   ],
   "metadata": {
    "collapsed": false,
    "ExecuteTime": {
     "end_time": "2023-05-12T20:37:48.949614700Z",
     "start_time": "2023-05-12T20:37:48.945304600Z"
    }
   }
  },
  {
   "cell_type": "code",
   "execution_count": 71,
   "outputs": [
    {
     "data": {
      "text/plain": "array([0.08433482, 0.27288144, 0.28784988, 0.20939261, 0.1305633 ,\n       0.0773287 , 0.32073499, 0.82729548, 0.35488542, 0.12156276])"
     },
     "execution_count": 71,
     "metadata": {},
     "output_type": "execute_result"
    }
   ],
   "source": [
    "mult"
   ],
   "metadata": {
    "collapsed": false,
    "ExecuteTime": {
     "end_time": "2023-05-12T20:37:52.401736400Z",
     "start_time": "2023-05-12T20:37:52.391499900Z"
    }
   }
  },
  {
   "cell_type": "code",
   "execution_count": 72,
   "outputs": [
    {
     "data": {
      "text/plain": "2.686829406469266"
     },
     "execution_count": 72,
     "metadata": {},
     "output_type": "execute_result"
    }
   ],
   "source": [
    "dot"
   ],
   "metadata": {
    "collapsed": false,
    "ExecuteTime": {
     "end_time": "2023-05-12T20:37:56.721091800Z",
     "start_time": "2023-05-12T20:37:56.709771900Z"
    }
   }
  },
  {
   "cell_type": "code",
   "execution_count": 83,
   "outputs": [],
   "source": [
    "# Stat Functions (SAPLEMM)\n",
    "sqrt = np.sqrt(25)\n",
    "ab = np.abs(-2)\n",
    "power = np.power(2,7) # 2^7\n",
    "log = np.log(25)\n",
    "exp = np.exp([2,3])\n",
    "mins = np.min(list1)\n",
    "maxs = np.max(list1)"
   ],
   "metadata": {
    "collapsed": false,
    "ExecuteTime": {
     "end_time": "2023-05-12T20:44:38.527009Z",
     "start_time": "2023-05-12T20:44:38.520906200Z"
    }
   }
  },
  {
   "cell_type": "code",
   "execution_count": 84,
   "outputs": [
    {
     "data": {
      "text/plain": "5.0"
     },
     "execution_count": 84,
     "metadata": {},
     "output_type": "execute_result"
    }
   ],
   "source": [
    "sqrt"
   ],
   "metadata": {
    "collapsed": false,
    "ExecuteTime": {
     "end_time": "2023-05-12T20:44:39.260601300Z",
     "start_time": "2023-05-12T20:44:39.246802900Z"
    }
   }
  },
  {
   "cell_type": "code",
   "execution_count": 85,
   "outputs": [
    {
     "data": {
      "text/plain": "2"
     },
     "execution_count": 85,
     "metadata": {},
     "output_type": "execute_result"
    }
   ],
   "source": [
    "ab"
   ],
   "metadata": {
    "collapsed": false,
    "ExecuteTime": {
     "end_time": "2023-05-12T20:44:39.618550Z",
     "start_time": "2023-05-12T20:44:39.601875600Z"
    }
   }
  },
  {
   "cell_type": "code",
   "execution_count": 86,
   "outputs": [
    {
     "data": {
      "text/plain": "128"
     },
     "execution_count": 86,
     "metadata": {},
     "output_type": "execute_result"
    }
   ],
   "source": [
    "power"
   ],
   "metadata": {
    "collapsed": false,
    "ExecuteTime": {
     "end_time": "2023-05-12T20:44:40.037068700Z",
     "start_time": "2023-05-12T20:44:40.004051200Z"
    }
   }
  },
  {
   "cell_type": "code",
   "execution_count": 87,
   "outputs": [
    {
     "data": {
      "text/plain": "3.2188758248682006"
     },
     "execution_count": 87,
     "metadata": {},
     "output_type": "execute_result"
    }
   ],
   "source": [
    "log"
   ],
   "metadata": {
    "collapsed": false,
    "ExecuteTime": {
     "end_time": "2023-05-12T20:44:40.398629600Z",
     "start_time": "2023-05-12T20:44:40.384593300Z"
    }
   }
  },
  {
   "cell_type": "code",
   "execution_count": 88,
   "outputs": [
    {
     "data": {
      "text/plain": "array([ 7.3890561 , 20.08553692])"
     },
     "execution_count": 88,
     "metadata": {},
     "output_type": "execute_result"
    }
   ],
   "source": [
    "exp"
   ],
   "metadata": {
    "collapsed": false,
    "ExecuteTime": {
     "end_time": "2023-05-12T20:44:40.990764800Z",
     "start_time": "2023-05-12T20:44:40.984757900Z"
    }
   }
  },
  {
   "cell_type": "code",
   "execution_count": 89,
   "outputs": [
    {
     "data": {
      "text/plain": "0.3278372139073249"
     },
     "execution_count": 89,
     "metadata": {},
     "output_type": "execute_result"
    }
   ],
   "source": [
    "mins"
   ],
   "metadata": {
    "collapsed": false,
    "ExecuteTime": {
     "end_time": "2023-05-12T20:45:31.093006200Z",
     "start_time": "2023-05-12T20:45:31.066644400Z"
    }
   }
  },
  {
   "cell_type": "code",
   "execution_count": 90,
   "outputs": [
    {
     "data": {
      "text/plain": "0.9500169068662015"
     },
     "execution_count": 90,
     "metadata": {},
     "output_type": "execute_result"
    }
   ],
   "source": [
    "maxs"
   ],
   "metadata": {
    "collapsed": false,
    "ExecuteTime": {
     "end_time": "2023-05-12T20:45:33.817980600Z",
     "start_time": "2023-05-12T20:45:33.806220Z"
    }
   }
  },
  {
   "cell_type": "code",
   "execution_count": 202,
   "outputs": [
    {
     "data": {
      "text/plain": "array([[[0.55320154, 0.47691669, 0.10321136, 0.77402239],\n        [0.74020136, 0.0389339 , 0.71731325, 0.10444768],\n        [0.13824363, 0.49194917, 0.24471461, 0.18195741]],\n\n       [[0.77744052, 0.34328462, 0.59044554, 0.01168973],\n        [0.90601427, 0.10800723, 0.23158124, 0.05869525],\n        [0.60781866, 0.44080122, 0.62170328, 0.08901523]]])"
     },
     "execution_count": 202,
     "metadata": {},
     "output_type": "execute_result"
    }
   ],
   "source": [
    "data"
   ],
   "metadata": {
    "collapsed": false,
    "ExecuteTime": {
     "end_time": "2023-05-12T21:41:54.797516900Z",
     "start_time": "2023-05-12T21:41:54.759803400Z"
    }
   }
  },
  {
   "cell_type": "code",
   "execution_count": 203,
   "outputs": [
    {
     "data": {
      "text/plain": "array([[[9.00000000e+03, 4.76916692e-01, 1.03211365e-01, 7.74022394e-01],\n        [7.40201358e-01, 3.89339037e-02, 7.17313254e-01, 1.04447677e-01],\n        [1.38243634e-01, 4.91949170e-01, 2.44714610e-01, 1.81957414e-01]],\n\n       [[7.77440522e-01, 3.43284617e-01, 5.90445542e-01, 1.16897260e-02],\n        [9.06014270e-01, 1.08007230e-01, 2.31581239e-01, 5.86952514e-02],\n        [6.07818664e-01, 4.40801220e-01, 6.21703282e-01, 8.90152332e-02]]])"
     },
     "execution_count": 203,
     "metadata": {},
     "output_type": "execute_result"
    }
   ],
   "source": [
    "data[0][0][0] = 9000\n",
    "data"
   ],
   "metadata": {
    "collapsed": false,
    "ExecuteTime": {
     "end_time": "2023-05-12T21:41:57.157148500Z",
     "start_time": "2023-05-12T21:41:57.148523500Z"
    }
   }
  },
  {
   "cell_type": "code",
   "execution_count": 204,
   "outputs": [
    {
     "data": {
      "text/plain": "array([[[1.03211365e-01, 4.76916692e-01, 7.74022394e-01, 9.00000000e+03],\n        [3.89339037e-02, 1.04447677e-01, 7.17313254e-01, 7.40201358e-01],\n        [1.38243634e-01, 1.81957414e-01, 2.44714610e-01, 4.91949170e-01]],\n\n       [[1.16897260e-02, 3.43284617e-01, 5.90445542e-01, 7.77440522e-01],\n        [5.86952514e-02, 1.08007230e-01, 2.31581239e-01, 9.06014270e-01],\n        [8.90152332e-02, 4.40801220e-01, 6.07818664e-01, 6.21703282e-01]]])"
     },
     "execution_count": 204,
     "metadata": {},
     "output_type": "execute_result"
    }
   ],
   "source": [
    "# sort = min to max\n",
    "# sorted = max to min\n",
    "data.sort()\n",
    "data"
   ],
   "metadata": {
    "collapsed": false,
    "ExecuteTime": {
     "end_time": "2023-05-12T21:42:00.686906200Z",
     "start_time": "2023-05-12T21:42:00.672640100Z"
    }
   }
  },
  {
   "cell_type": "code",
   "execution_count": 205,
   "outputs": [
    {
     "data": {
      "text/plain": "array([[[1.03211365e-01, 4.76916692e-01, 7.74022394e-01, 9.00000000e+03,\n         3.89339037e-02, 1.04447677e-01],\n        [7.17313254e-01, 7.40201358e-01, 1.38243634e-01, 1.81957414e-01,\n         2.44714610e-01, 4.91949170e-01]],\n\n       [[1.16897260e-02, 3.43284617e-01, 5.90445542e-01, 7.77440522e-01,\n         5.86952514e-02, 1.08007230e-01],\n        [2.31581239e-01, 9.06014270e-01, 8.90152332e-02, 4.40801220e-01,\n         6.07818664e-01, 6.21703282e-01]]])"
     },
     "execution_count": 205,
     "metadata": {},
     "output_type": "execute_result"
    }
   ],
   "source": [
    "data = data.reshape((2,2,-1))\n",
    "data"
   ],
   "metadata": {
    "collapsed": false,
    "ExecuteTime": {
     "end_time": "2023-05-12T21:42:15.614038700Z",
     "start_time": "2023-05-12T21:42:15.598266100Z"
    }
   }
  },
  {
   "cell_type": "code",
   "execution_count": 208,
   "outputs": [
    {
     "name": "stdout",
     "output_type": "stream",
     "text": [
      "[0. 0. 0. 0. 0. 0. 0. 0.]\n",
      "[0. 0. 0. 0. 0. 0. 0. 0. 3. 4.]\n"
     ]
    }
   ],
   "source": [
    "zeros = np.zeros((8))\n",
    "print(zeros)\n",
    "zeros = np.append(zeros, [3,4])\n",
    "print(zeros)"
   ],
   "metadata": {
    "collapsed": false,
    "ExecuteTime": {
     "end_time": "2023-05-12T21:46:55.300189500Z",
     "start_time": "2023-05-12T21:46:55.279054100Z"
    }
   }
  },
  {
   "cell_type": "code",
   "execution_count": 212,
   "outputs": [
    {
     "data": {
      "text/plain": "array([0.00000e+00, 0.00000e+00, 2.26272e+05, 2.26272e+05, 2.26272e+05,\n       0.00000e+00, 0.00000e+00, 0.00000e+00, 0.00000e+00, 0.00000e+00,\n       0.00000e+00, 3.00000e+00, 4.00000e+00])"
     },
     "execution_count": 212,
     "metadata": {},
     "output_type": "execute_result"
    }
   ],
   "source": [
    "zeros = np.insert(zeros,2,226272)\n",
    "zeros\n"
   ],
   "metadata": {
    "collapsed": false,
    "ExecuteTime": {
     "end_time": "2023-05-12T21:47:43.171681100Z",
     "start_time": "2023-05-12T21:47:43.166033200Z"
    }
   }
  },
  {
   "cell_type": "markdown",
   "source": [
    " # Delete"
   ],
   "metadata": {
    "collapsed": false
   }
  },
  {
   "cell_type": "code",
   "execution_count": 214,
   "outputs": [
    {
     "data": {
      "text/plain": "array([[[1.03211365e-01, 4.76916692e-01, 7.74022394e-01, 9.00000000e+03,\n         3.89339037e-02, 1.04447677e-01],\n        [7.17313254e-01, 7.40201358e-01, 1.38243634e-01, 1.81957414e-01,\n         2.44714610e-01, 4.91949170e-01]],\n\n       [[1.16897260e-02, 3.43284617e-01, 5.90445542e-01, 7.77440522e-01,\n         5.86952514e-02, 1.08007230e-01],\n        [2.31581239e-01, 9.06014270e-01, 8.90152332e-02, 4.40801220e-01,\n         6.07818664e-01, 6.21703282e-01]]])"
     },
     "execution_count": 214,
     "metadata": {},
     "output_type": "execute_result"
    }
   ],
   "source": [
    "data"
   ],
   "metadata": {
    "collapsed": false,
    "ExecuteTime": {
     "end_time": "2023-05-12T21:48:18.621499700Z",
     "start_time": "2023-05-12T21:48:18.607997400Z"
    }
   }
  },
  {
   "cell_type": "code",
   "execution_count": 217,
   "outputs": [
    {
     "data": {
      "text/plain": "array([[[0.71731325, 0.74020136, 0.13824363, 0.18195741, 0.24471461,\n         0.49194917]],\n\n       [[0.23158124, 0.90601427, 0.08901523, 0.44080122, 0.60781866,\n         0.62170328]]])"
     },
     "execution_count": 217,
     "metadata": {},
     "output_type": "execute_result"
    }
   ],
   "source": [
    "np.delete(data, 0, axis=1)"
   ],
   "metadata": {
    "collapsed": false,
    "ExecuteTime": {
     "end_time": "2023-05-12T21:50:31.521756100Z",
     "start_time": "2023-05-12T21:50:31.515750800Z"
    }
   }
  },
  {
   "cell_type": "code",
   "execution_count": 219,
   "outputs": [
    {
     "data": {
      "text/plain": "array([[[0.01168973, 0.34328462, 0.59044554, 0.77744052, 0.05869525,\n         0.10800723],\n        [0.23158124, 0.90601427, 0.08901523, 0.44080122, 0.60781866,\n         0.62170328]]])"
     },
     "execution_count": 219,
     "metadata": {},
     "output_type": "execute_result"
    }
   ],
   "source": [
    "np.delete(data, 0, axis=0)"
   ],
   "metadata": {
    "collapsed": false,
    "ExecuteTime": {
     "end_time": "2023-05-12T21:56:44.518045900Z",
     "start_time": "2023-05-12T21:56:44.475839800Z"
    }
   }
  },
  {
   "cell_type": "code",
   "execution_count": 225,
   "outputs": [
    {
     "data": {
      "text/plain": "array([[[0.05278862, 0.45360528, 0.15732018],\n        [0.4359851 , 0.41880716, 0.30047144],\n        [0.18561326, 0.67386247, 0.45229655]],\n\n       [[0.96270096, 0.47583799, 0.82374212],\n        [0.58410398, 0.07880547, 0.66114732],\n        [0.93473855, 0.02592173, 0.56493763]]])"
     },
     "execution_count": 225,
     "metadata": {},
     "output_type": "execute_result"
    }
   ],
   "source": [
    "np.delete(data, 0, axis=2)"
   ],
   "metadata": {
    "collapsed": false,
    "ExecuteTime": {
     "end_time": "2023-05-12T21:59:21.308174900Z",
     "start_time": "2023-05-12T21:59:21.302170100Z"
    }
   }
  },
  {
   "cell_type": "code",
   "execution_count": 227,
   "outputs": [],
   "source": [
    "np.save(\"new array\", data)"
   ],
   "metadata": {
    "collapsed": false,
    "ExecuteTime": {
     "end_time": "2023-05-12T22:01:44.594641200Z",
     "start_time": "2023-05-12T22:01:44.574889600Z"
    }
   }
  },
  {
   "cell_type": "code",
   "execution_count": 229,
   "outputs": [],
   "source": [
    "test = np.load(\"new array.npy\")"
   ],
   "metadata": {
    "collapsed": false,
    "ExecuteTime": {
     "end_time": "2023-05-12T22:02:06.883319600Z",
     "start_time": "2023-05-12T22:02:06.869933700Z"
    }
   }
  },
  {
   "cell_type": "code",
   "execution_count": 230,
   "outputs": [
    {
     "data": {
      "text/plain": "array([[[0.12421659, 0.05278862, 0.45360528, 0.15732018],\n        [0.44559582, 0.4359851 , 0.41880716, 0.30047144],\n        [0.25644397, 0.18561326, 0.67386247, 0.45229655]],\n\n       [[0.87014354, 0.96270096, 0.47583799, 0.82374212],\n        [0.26917624, 0.58410398, 0.07880547, 0.66114732],\n        [0.92063858, 0.93473855, 0.02592173, 0.56493763]]])"
     },
     "execution_count": 230,
     "metadata": {},
     "output_type": "execute_result"
    }
   ],
   "source": [
    "test"
   ],
   "metadata": {
    "collapsed": false,
    "ExecuteTime": {
     "end_time": "2023-05-12T22:02:08.988657300Z",
     "start_time": "2023-05-12T22:02:08.984550400Z"
    }
   }
  }
 ],
 "metadata": {
  "kernelspec": {
   "display_name": "Python 3",
   "language": "python",
   "name": "python3"
  },
  "language_info": {
   "codemirror_mode": {
    "name": "ipython",
    "version": 2
   },
   "file_extension": ".py",
   "mimetype": "text/x-python",
   "name": "python",
   "nbconvert_exporter": "python",
   "pygments_lexer": "ipython2",
   "version": "2.7.6"
  }
 },
 "nbformat": 4,
 "nbformat_minor": 0
}
